{
 "cells": [
  {
   "cell_type": "code",
   "execution_count": 2,
   "metadata": {},
   "outputs": [],
   "source": [
    "import numpy as np\n",
    "from qiskit import QuantumCircuit, ClassicalRegister, QuantumRegister, execute"
   ]
  },
  {
   "cell_type": "code",
   "execution_count": 14,
   "metadata": {},
   "outputs": [],
   "source": [
    "qr = QuantumRegister(2)\n",
    "cr = ClassicalRegister(2)\n",
    "circ = QuantumCircuit(qr,cr)\n",
    "circ.cx(qr[0], qr[1])\n",
    "circ.barrier(qr[0], qr[1])\n",
    "\n",
    "def gate_apply(user_input):\n",
    "    if(user_input) == \"X\":\n",
    "        circ.x(qr[0])\n",
    "        circ.barrier(qr[0])\n",
    "    if(user_input) == \"Y\":\n",
    "        circ.y(qr[0])\n",
    "        circ.barrier(qr[0])\n",
    "    if(user_input) == \"Z\":\n",
    "        circ.z(qr[0])\n",
    "    if(user_input) == \"H\":\n",
    "        circ.h(qr[0])"
   ]
  },
  {
   "cell_type": "code",
   "execution_count": 15,
   "metadata": {},
   "outputs": [
    {
     "name": "stdout",
     "output_type": "stream",
     "text": [
      "Choose gate:X\n",
      "Choose gate:Y\n"
     ]
    }
   ],
   "source": [
    "gate_choice1 = input(\"Choose gate:\")\n",
    "gate_apply(gate_choice1)\n",
    "gate_choice2 = input(\"Choose gate:\")\n",
    "gate_apply(gate_choice2)"
   ]
  },
  {
   "cell_type": "code",
   "execution_count": 18,
   "metadata": {},
   "outputs": [
    {
     "data": {
      "image/png": "[encoded data removed]",
      "text/plain": [
       "<matplotlib.figure.Figure at 0xa20fe2550>"
      ]
     },
     "execution_count": 18,
     "metadata": {},
     "output_type": "execute_result"
    }
   ],
   "source": [
    "# circ.barrier(qr[0], qr[1])\n",
    "# circ.measure(qr,cr)\n",
    "circ.draw(output = 'mpl')"
   ]
  },
  {
   "cell_type": "code",
   "execution_count": null,
   "metadata": {},
   "outputs": [],
   "source": [
    "from qiskit.tools.visualization import plot_histogram\n",
    "plot_histogram(counts)"
   ]
  },
  {
   "cell_type": "code",
   "execution_count": null,
   "metadata": {},
   "outputs": [],
   "source": []
  },
  {
   "cell_type": "code",
   "execution_count": null,
   "metadata": {},
   "outputs": [],
   "source": []
  },
  {
   "cell_type": "code",
   "execution_count": null,
   "metadata": {},
   "outputs": [],
   "source": [
    "# Use the BasicAer qasm_simulator backend\n",
    "from qiskit import BasicAer\n",
    "backend_sim = BasicAer.get_backend('qasm_simulator')\n",
    "\n",
    "# Execute the circuit on the qasm simulator, running it 1000 times.\n",
    "job_sim = execute(circ, backend_sim, shots=1000)\n",
    "\n",
    "# Grab the results from the job.\n",
    "result_sim = job_sim.result()\n",
    "\n",
    "# Print the counts, which are contained in a Python dictionary\n",
    "counts = result_sim.get_counts(circ)\n",
    "print(counts)"
   ]
  },
  {
   "cell_type": "code",
   "execution_count": null,
   "metadata": {},
   "outputs": [],
   "source": [
    "\n"
   ]
  },
  {
   "cell_type": "code",
   "execution_count": null,
   "metadata": {},
   "outputs": [],
   "source": [
    "from qiskit.tools.visualization import plot_state_qsphere\n",
    "plot_state_qsphere(quantum_state)"
   ]
  },
  {
   "cell_type": "code",
   "execution_count": null,
   "metadata": {},
   "outputs": [],
   "source": [
    "# Use the BasicAer qasm_simulator backend\n",
    "from qiskit import BasicAer\n",
    "backend_sim = BasicAer.get_backend('qasm_simulator')\n",
    "\n",
    "# Execute the circuit on the qasm simulator, running it 1000 times.\n",
    "job_sim = execute(circ, backend_sim, shots=1000)\n",
    "\n",
    "# Grab the results from the job.\n",
    "result_sim = job_sim.result()\n",
    "\n",
    "# Print the counts, which are contained in a Python dictionary\n",
    "counts = result_sim.get_counts(circ)\n",
    "print(counts)"
   ]
  }
 ],
 "metadata": {
  "kernelspec": {
   "display_name": "Python 3",
   "language": "python",
   "name": "python3"
  },
  "language_info": {
   "codemirror_mode": {
    "name": "ipython",
    "version": 3
   },
   "file_extension": ".py",
   "mimetype": "text/x-python",
   "name": "python",
   "nbconvert_exporter": "python",
   "pygments_lexer": "ipython3",
   "version": "3.6.5"
  }
 },
 "nbformat": 4,
 "nbformat_minor": 2
}
